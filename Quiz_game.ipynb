{
 "cells": [
  {
   "cell_type": "code",
   "execution_count": 1,
   "metadata": {},
   "outputs": [
    {
     "name": "stdout",
     "output_type": "stream",
     "text": [
      "yarn\n",
      "-----------\n",
      "1 tale story fibers for knitting\n",
      "\n",
      "2 cheat make a fool of\n",
      "\n",
      "3 without preparation\n",
      "\n",
      "4 puzzling person or thing\n",
      "\n",
      "Enter 1 , 2 , 3 , 4 or 0 to exit1\n",
      "Good job,correct\n",
      "treacherous\n",
      "-----------\n",
      "1 rising or falling sharply\n",
      "\n",
      "2 sham; counterfeit; not genuine\n",
      "\n",
      "3 tale story fibers for knitting\n",
      "\n",
      "4 not to be trusted, perfidious\"\n",
      "\n",
      "Enter 1 , 2 , 3 , 4 or 0 to exit2\n",
      "Bad luck,try again\n",
      "permeate\n",
      "-----------\n",
      "1 A piece of broken pottery\n",
      "\n",
      "2 examining one's own thoughts and feelings\n",
      "\n",
      "3 spread into every part of\n",
      "\n",
      "4 implied though; not plainly expressed\n",
      "\n",
      "Enter 1 , 2 , 3 , 4 or 0 to exit0\n",
      "Thank you for attempting quiz,bye-bye\n"
     ]
    }
   ],
   "source": [
    "import random\n",
    "def get_def_and_pop(word_list,word_dict):\n",
    "    random_index=random.randrange(len(word_list))\n",
    "    word = word_list.pop(random_index)\n",
    "    definition = word_dict.get(word)\n",
    "    return word , definition\n",
    "def get_word_and_definition(rawstring):\n",
    "    word,definition=rawstring.split(',',1)\n",
    "    return word,definition\n",
    "fh = open(\"Vocabulary_list.csv\",\"r\")\n",
    "wd_list=fh.readlines()\n",
    "\n",
    "wd_list.pop(0)\n",
    "wd_set=set(wd_list)\n",
    "fh=open(\"Vocabulary_set.csv\",\"w\")\n",
    "fh.writelines(wd_set)\n",
    "\n",
    "word_dict=dict()\n",
    "\n",
    "for rawstring in wd_set:\n",
    "    word,definition=get_word_and_definition(rawstring)\n",
    "    word_dict[word]=definition\n",
    "    #print(word)\n",
    "while True:\n",
    "    wd_list=list(word_dict)\n",
    "    choice_list=[]\n",
    "    for i in range(4):\n",
    "        word,definition = get_def_and_pop(wd_list,word_dict)\n",
    "        choice_list.append(definition)\n",
    "    random.shuffle(choice_list)\n",
    "\n",
    "    print(word)\n",
    "    print(\"-----------\")\n",
    "    for j , value in enumerate(choice_list):\n",
    "        print(j+1,value)\n",
    "    choice=int(input(\"Enter 1 , 2 , 3 , 4 or 0 to exit\"))\n",
    "    if choice==0:\n",
    "        print(\"Thank you for attempting quiz,bye-bye\")\n",
    "        break\n",
    "    elif choice_list[choice-1]==definition:\n",
    "        print(\"Good job,correct\")\n",
    "    else:\n",
    "        print(\"Bad luck,try again\")\n"
   ]
  }
 ],
 "metadata": {
  "kernelspec": {
   "display_name": "Python 3",
   "language": "python",
   "name": "python3"
  },
  "language_info": {
   "codemirror_mode": {
    "name": "ipython",
    "version": 3
   },
   "file_extension": ".py",
   "mimetype": "text/x-python",
   "name": "python",
   "nbconvert_exporter": "python",
   "pygments_lexer": "ipython3",
   "version": "3.7.4"
  }
 },
 "nbformat": 4,
 "nbformat_minor": 2
}
